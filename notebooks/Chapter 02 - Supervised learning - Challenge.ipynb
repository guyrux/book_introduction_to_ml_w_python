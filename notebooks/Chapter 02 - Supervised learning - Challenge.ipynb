{
 "cells": [
  {
   "cell_type": "markdown",
   "id": "8ce42039",
   "metadata": {},
   "source": [
    "# Chapter 02 - Supervised learning - Challenge\n",
    "\n",
    "This challenge was proposed in the GE ML - CDS and it is available in this [kaggle's competition](https://www.kaggle.com/competitions/ge-ml-cds-knn/overview).\n"
   ]
  },
  {
   "cell_type": "markdown",
   "id": "eff90006",
   "metadata": {},
   "source": [
    "# Setup\n",
    "\n",
    "## Library import"
   ]
  },
  {
   "cell_type": "code",
   "execution_count": 25,
   "id": "3d02aa5c",
   "metadata": {
    "ExecuteTime": {
     "end_time": "2022-10-01T01:47:00.467136Z",
     "start_time": "2022-10-01T01:47:00.311125Z"
    }
   },
   "outputs": [
    {
     "name": "stdout",
     "output_type": "stream",
     "text": [
      "The autoreload extension is already loaded. To reload it, use:\n",
      "  %reload_ext autoreload\n"
     ]
    },
    {
     "data": {
      "text/html": [
       "        <script type=\"text/javascript\">\n",
       "        window.PlotlyConfig = {MathJaxConfig: 'local'};\n",
       "        if (window.MathJax && window.MathJax.Hub && window.MathJax.Hub.Config) {window.MathJax.Hub.Config({SVG: {font: \"STIX-Web\"}});}\n",
       "        if (typeof require !== 'undefined') {\n",
       "        require.undef(\"plotly\");\n",
       "        requirejs.config({\n",
       "            paths: {\n",
       "                'plotly': ['https://cdn.plot.ly/plotly-2.14.0.min']\n",
       "            }\n",
       "        });\n",
       "        require(['plotly'], function(Plotly) {\n",
       "            window._Plotly = Plotly;\n",
       "        });\n",
       "        }\n",
       "        </script>\n",
       "        "
      ]
     },
     "metadata": {},
     "output_type": "display_data"
    }
   ],
   "source": [
    "import matplotlib.pyplot as plt\n",
    "import numpy as np\n",
    "import pandas as pd\n",
    "import plotly\n",
    "import plotly.graph_objs as go\n",
    "import plotly.offline as ply\n",
    "import seaborn as sns\n",
    "from sklearn.neighbors import KNeighborsClassifier\n",
    "from sklearn.model_selection import train_test_split, GridSearchCV, RandomizedSearchCV\n",
    "from sklearn.metrics import classification_report\n",
    "\n",
    "# Autoreload extension\n",
    "if 'autoreload' not in get_ipython().extension_manager.loaded:\n",
    "    %load_ext autoreload\n",
    "    \n",
    "%autoreload 2\n",
    "\n",
    "plotly.offline.init_notebook_mode(connected=True)\n",
    "\n",
    "# Options for pandas\n",
    "pd.options.display.max_columns = None\n",
    "pd.options.display.max_rows = 30"
   ]
  },
  {
   "cell_type": "markdown",
   "id": "5ba08db0",
   "metadata": {},
   "source": [
    "## Local library import"
   ]
  },
  {
   "cell_type": "code",
   "execution_count": null,
   "id": "9e31fe5f",
   "metadata": {},
   "outputs": [],
   "source": []
  },
  {
   "cell_type": "markdown",
   "id": "e1e8dbe7",
   "metadata": {},
   "source": [
    "## Parameter definition\n",
    "We set all relevant parameters for our notebook. By convention, parameters are uppercase, while all the \n",
    "other variables follow Python's guidelines."
   ]
  },
  {
   "cell_type": "code",
   "execution_count": 5,
   "id": "700eb3b8",
   "metadata": {
    "ExecuteTime": {
     "end_time": "2022-10-01T01:19:56.796459Z",
     "start_time": "2022-10-01T01:19:56.667559Z"
    }
   },
   "outputs": [],
   "source": [
    "RANDON_STATE = 42\n",
    "DATA_FOLDER = '../data/'"
   ]
  },
  {
   "cell_type": "markdown",
   "id": "793fe453",
   "metadata": {},
   "source": [
    "## Data import\n",
    "We retrieve all the required data for the analysis."
   ]
  },
  {
   "cell_type": "code",
   "execution_count": 9,
   "id": "b4f8cd71",
   "metadata": {
    "ExecuteTime": {
     "end_time": "2022-10-01T01:20:37.035512Z",
     "start_time": "2022-10-01T01:20:36.891505Z"
    }
   },
   "outputs": [
    {
     "data": {
      "text/html": [
       "<div>\n",
       "<style scoped>\n",
       "    .dataframe tbody tr th:only-of-type {\n",
       "        vertical-align: middle;\n",
       "    }\n",
       "\n",
       "    .dataframe tbody tr th {\n",
       "        vertical-align: top;\n",
       "    }\n",
       "\n",
       "    .dataframe thead th {\n",
       "        text-align: right;\n",
       "    }\n",
       "</style>\n",
       "<table border=\"1\" class=\"dataframe\">\n",
       "  <thead>\n",
       "    <tr style=\"text-align: right;\">\n",
       "      <th></th>\n",
       "      <th>x1</th>\n",
       "      <th>x2</th>\n",
       "      <th>x3</th>\n",
       "      <th>x4</th>\n",
       "      <th>x5</th>\n",
       "      <th>x6</th>\n",
       "      <th>x7</th>\n",
       "      <th>x8</th>\n",
       "      <th>x9</th>\n",
       "      <th>x10</th>\n",
       "      <th>x11</th>\n",
       "      <th>target</th>\n",
       "    </tr>\n",
       "    <tr>\n",
       "      <th>id</th>\n",
       "      <th></th>\n",
       "      <th></th>\n",
       "      <th></th>\n",
       "      <th></th>\n",
       "      <th></th>\n",
       "      <th></th>\n",
       "      <th></th>\n",
       "      <th></th>\n",
       "      <th></th>\n",
       "      <th></th>\n",
       "      <th></th>\n",
       "      <th></th>\n",
       "    </tr>\n",
       "  </thead>\n",
       "  <tbody>\n",
       "    <tr>\n",
       "      <th>557</th>\n",
       "      <td>0.221154</td>\n",
       "      <td>0.323529</td>\n",
       "      <td>0.144578</td>\n",
       "      <td>0.015337</td>\n",
       "      <td>0.118694</td>\n",
       "      <td>0.048780</td>\n",
       "      <td>0.296984</td>\n",
       "      <td>0.113553</td>\n",
       "      <td>0.545455</td>\n",
       "      <td>0.325581</td>\n",
       "      <td>0.387097</td>\n",
       "      <td>1</td>\n",
       "    </tr>\n",
       "    <tr>\n",
       "      <th>4119</th>\n",
       "      <td>0.259615</td>\n",
       "      <td>0.313725</td>\n",
       "      <td>0.186747</td>\n",
       "      <td>0.044479</td>\n",
       "      <td>0.109792</td>\n",
       "      <td>0.069686</td>\n",
       "      <td>0.320186</td>\n",
       "      <td>0.060343</td>\n",
       "      <td>0.390909</td>\n",
       "      <td>0.104651</td>\n",
       "      <td>0.645161</td>\n",
       "      <td>0</td>\n",
       "    </tr>\n",
       "    <tr>\n",
       "      <th>3772</th>\n",
       "      <td>0.240385</td>\n",
       "      <td>0.156863</td>\n",
       "      <td>0.174699</td>\n",
       "      <td>0.200920</td>\n",
       "      <td>0.077151</td>\n",
       "      <td>0.177700</td>\n",
       "      <td>0.290023</td>\n",
       "      <td>0.165028</td>\n",
       "      <td>0.409091</td>\n",
       "      <td>0.186047</td>\n",
       "      <td>0.419355</td>\n",
       "      <td>1</td>\n",
       "    </tr>\n",
       "    <tr>\n",
       "      <th>2510</th>\n",
       "      <td>0.230769</td>\n",
       "      <td>0.196078</td>\n",
       "      <td>0.271084</td>\n",
       "      <td>0.105828</td>\n",
       "      <td>0.106825</td>\n",
       "      <td>0.153310</td>\n",
       "      <td>0.450116</td>\n",
       "      <td>0.166185</td>\n",
       "      <td>0.490909</td>\n",
       "      <td>0.279070</td>\n",
       "      <td>0.193548</td>\n",
       "      <td>1</td>\n",
       "    </tr>\n",
       "    <tr>\n",
       "      <th>4182</th>\n",
       "      <td>0.355769</td>\n",
       "      <td>0.294118</td>\n",
       "      <td>0.337349</td>\n",
       "      <td>0.139571</td>\n",
       "      <td>0.136499</td>\n",
       "      <td>0.045296</td>\n",
       "      <td>0.373550</td>\n",
       "      <td>0.172354</td>\n",
       "      <td>0.372727</td>\n",
       "      <td>0.500000</td>\n",
       "      <td>0.306452</td>\n",
       "      <td>1</td>\n",
       "    </tr>\n",
       "  </tbody>\n",
       "</table>\n",
       "</div>"
      ],
      "text/plain": [
       "            x1        x2        x3        x4        x5        x6        x7  \\\n",
       "id                                                                           \n",
       "557   0.221154  0.323529  0.144578  0.015337  0.118694  0.048780  0.296984   \n",
       "4119  0.259615  0.313725  0.186747  0.044479  0.109792  0.069686  0.320186   \n",
       "3772  0.240385  0.156863  0.174699  0.200920  0.077151  0.177700  0.290023   \n",
       "2510  0.230769  0.196078  0.271084  0.105828  0.106825  0.153310  0.450116   \n",
       "4182  0.355769  0.294118  0.337349  0.139571  0.136499  0.045296  0.373550   \n",
       "\n",
       "            x8        x9       x10       x11  target  \n",
       "id                                                    \n",
       "557   0.113553  0.545455  0.325581  0.387097       1  \n",
       "4119  0.060343  0.390909  0.104651  0.645161       0  \n",
       "3772  0.165028  0.409091  0.186047  0.419355       1  \n",
       "2510  0.166185  0.490909  0.279070  0.193548       1  \n",
       "4182  0.172354  0.372727  0.500000  0.306452       1  "
      ]
     },
     "execution_count": 9,
     "metadata": {},
     "output_type": "execute_result"
    }
   ],
   "source": [
    "df = pd.read_csv(DATA_FOLDER + 'train.csv', index_col='id')\n",
    "df.sample(5, random_state=RANDON_STATE)"
   ]
  },
  {
   "cell_type": "code",
   "execution_count": 58,
   "id": "58319b29",
   "metadata": {
    "ExecuteTime": {
     "end_time": "2022-10-01T02:03:20.233301Z",
     "start_time": "2022-10-01T02:03:20.079946Z"
    }
   },
   "outputs": [
    {
     "data": {
      "text/html": [
       "<div>\n",
       "<style scoped>\n",
       "    .dataframe tbody tr th:only-of-type {\n",
       "        vertical-align: middle;\n",
       "    }\n",
       "\n",
       "    .dataframe tbody tr th {\n",
       "        vertical-align: top;\n",
       "    }\n",
       "\n",
       "    .dataframe thead th {\n",
       "        text-align: right;\n",
       "    }\n",
       "</style>\n",
       "<table border=\"1\" class=\"dataframe\">\n",
       "  <thead>\n",
       "    <tr style=\"text-align: right;\">\n",
       "      <th></th>\n",
       "      <th>x1</th>\n",
       "      <th>x2</th>\n",
       "      <th>x3</th>\n",
       "      <th>x4</th>\n",
       "      <th>x5</th>\n",
       "      <th>x6</th>\n",
       "      <th>x7</th>\n",
       "      <th>x8</th>\n",
       "      <th>x9</th>\n",
       "      <th>x10</th>\n",
       "      <th>x11</th>\n",
       "    </tr>\n",
       "    <tr>\n",
       "      <th>id</th>\n",
       "      <th></th>\n",
       "      <th></th>\n",
       "      <th></th>\n",
       "      <th></th>\n",
       "      <th></th>\n",
       "      <th></th>\n",
       "      <th></th>\n",
       "      <th></th>\n",
       "      <th></th>\n",
       "      <th></th>\n",
       "      <th></th>\n",
       "    </tr>\n",
       "  </thead>\n",
       "  <tbody>\n",
       "    <tr>\n",
       "      <th>4716</th>\n",
       "      <td>0.163462</td>\n",
       "      <td>0.230392</td>\n",
       "      <td>0.228916</td>\n",
       "      <td>0.030675</td>\n",
       "      <td>0.071217</td>\n",
       "      <td>0.027875</td>\n",
       "      <td>0.139211</td>\n",
       "      <td>0.073067</td>\n",
       "      <td>0.363636</td>\n",
       "      <td>0.430233</td>\n",
       "      <td>0.451613</td>\n",
       "    </tr>\n",
       "    <tr>\n",
       "      <th>934</th>\n",
       "      <td>0.230769</td>\n",
       "      <td>0.196078</td>\n",
       "      <td>0.259036</td>\n",
       "      <td>0.190184</td>\n",
       "      <td>0.089021</td>\n",
       "      <td>0.216028</td>\n",
       "      <td>0.519722</td>\n",
       "      <td>0.199345</td>\n",
       "      <td>0.327273</td>\n",
       "      <td>0.186047</td>\n",
       "      <td>0.145161</td>\n",
       "    </tr>\n",
       "    <tr>\n",
       "      <th>2003</th>\n",
       "      <td>0.346154</td>\n",
       "      <td>0.215686</td>\n",
       "      <td>0.132530</td>\n",
       "      <td>0.071319</td>\n",
       "      <td>0.130564</td>\n",
       "      <td>0.108014</td>\n",
       "      <td>0.396752</td>\n",
       "      <td>0.105842</td>\n",
       "      <td>0.372727</td>\n",
       "      <td>0.267442</td>\n",
       "      <td>0.580645</td>\n",
       "    </tr>\n",
       "    <tr>\n",
       "      <th>1304</th>\n",
       "      <td>0.403846</td>\n",
       "      <td>0.500000</td>\n",
       "      <td>0.427711</td>\n",
       "      <td>0.256902</td>\n",
       "      <td>0.086053</td>\n",
       "      <td>0.205575</td>\n",
       "      <td>0.508121</td>\n",
       "      <td>0.248506</td>\n",
       "      <td>0.209091</td>\n",
       "      <td>0.616279</td>\n",
       "      <td>0.209677</td>\n",
       "    </tr>\n",
       "    <tr>\n",
       "      <th>1138</th>\n",
       "      <td>0.519231</td>\n",
       "      <td>0.196078</td>\n",
       "      <td>0.277108</td>\n",
       "      <td>0.039877</td>\n",
       "      <td>0.145401</td>\n",
       "      <td>0.128920</td>\n",
       "      <td>0.287703</td>\n",
       "      <td>0.171390</td>\n",
       "      <td>0.381818</td>\n",
       "      <td>0.418605</td>\n",
       "      <td>0.241935</td>\n",
       "    </tr>\n",
       "  </tbody>\n",
       "</table>\n",
       "</div>"
      ],
      "text/plain": [
       "            x1        x2        x3        x4        x5        x6        x7  \\\n",
       "id                                                                           \n",
       "4716  0.163462  0.230392  0.228916  0.030675  0.071217  0.027875  0.139211   \n",
       "934   0.230769  0.196078  0.259036  0.190184  0.089021  0.216028  0.519722   \n",
       "2003  0.346154  0.215686  0.132530  0.071319  0.130564  0.108014  0.396752   \n",
       "1304  0.403846  0.500000  0.427711  0.256902  0.086053  0.205575  0.508121   \n",
       "1138  0.519231  0.196078  0.277108  0.039877  0.145401  0.128920  0.287703   \n",
       "\n",
       "            x8        x9       x10       x11  \n",
       "id                                            \n",
       "4716  0.073067  0.363636  0.430233  0.451613  \n",
       "934   0.199345  0.327273  0.186047  0.145161  \n",
       "2003  0.105842  0.372727  0.267442  0.580645  \n",
       "1304  0.248506  0.209091  0.616279  0.209677  \n",
       "1138  0.171390  0.381818  0.418605  0.241935  "
      ]
     },
     "execution_count": 58,
     "metadata": {},
     "output_type": "execute_result"
    }
   ],
   "source": [
    "df_test = pd.read_csv(DATA_FOLDER + 'test.csv', index_col='id')\n",
    "df_test.sample(5, random_state=RANDON_STATE)"
   ]
  },
  {
   "cell_type": "markdown",
   "id": "85dab2a8",
   "metadata": {},
   "source": [
    "### Data evaluation\n",
    "\n",
    "#### Training dataset"
   ]
  },
  {
   "cell_type": "code",
   "execution_count": 11,
   "id": "128117e4",
   "metadata": {
    "ExecuteTime": {
     "end_time": "2022-10-01T01:23:57.424629Z",
     "start_time": "2022-10-01T01:23:57.274251Z"
    }
   },
   "outputs": [
    {
     "name": "stdout",
     "output_type": "stream",
     "text": [
      "<class 'pandas.core.frame.DataFrame'>\n",
      "Int64Index: 3428 entries, 3009 to 3115\n",
      "Data columns (total 12 columns):\n",
      " #   Column  Non-Null Count  Dtype  \n",
      "---  ------  --------------  -----  \n",
      " 0   x1      3428 non-null   float64\n",
      " 1   x2      3428 non-null   float64\n",
      " 2   x3      3428 non-null   float64\n",
      " 3   x4      3428 non-null   float64\n",
      " 4   x5      3428 non-null   float64\n",
      " 5   x6      3428 non-null   float64\n",
      " 6   x7      3428 non-null   float64\n",
      " 7   x8      3428 non-null   float64\n",
      " 8   x9      3428 non-null   float64\n",
      " 9   x10     3428 non-null   float64\n",
      " 10  x11     3428 non-null   float64\n",
      " 11  target  3428 non-null   int64  \n",
      "dtypes: float64(11), int64(1)\n",
      "memory usage: 348.2 KB\n"
     ]
    }
   ],
   "source": [
    "df.info()"
   ]
  },
  {
   "cell_type": "code",
   "execution_count": 12,
   "id": "744ebb93",
   "metadata": {
    "ExecuteTime": {
     "end_time": "2022-10-01T01:24:12.517828Z",
     "start_time": "2022-10-01T01:24:12.361199Z"
    }
   },
   "outputs": [
    {
     "data": {
      "text/html": [
       "<div>\n",
       "<style scoped>\n",
       "    .dataframe tbody tr th:only-of-type {\n",
       "        vertical-align: middle;\n",
       "    }\n",
       "\n",
       "    .dataframe tbody tr th {\n",
       "        vertical-align: top;\n",
       "    }\n",
       "\n",
       "    .dataframe thead th {\n",
       "        text-align: right;\n",
       "    }\n",
       "</style>\n",
       "<table border=\"1\" class=\"dataframe\">\n",
       "  <thead>\n",
       "    <tr style=\"text-align: right;\">\n",
       "      <th></th>\n",
       "      <th>count</th>\n",
       "      <th>mean</th>\n",
       "      <th>std</th>\n",
       "      <th>min</th>\n",
       "      <th>25%</th>\n",
       "      <th>50%</th>\n",
       "      <th>75%</th>\n",
       "      <th>max</th>\n",
       "    </tr>\n",
       "  </thead>\n",
       "  <tbody>\n",
       "    <tr>\n",
       "      <th>x1</th>\n",
       "      <td>3428.0</td>\n",
       "      <td>0.294153</td>\n",
       "      <td>0.081188</td>\n",
       "      <td>0.000000</td>\n",
       "      <td>0.240385</td>\n",
       "      <td>0.288462</td>\n",
       "      <td>0.336538</td>\n",
       "      <td>0.769231</td>\n",
       "    </tr>\n",
       "    <tr>\n",
       "      <th>x2</th>\n",
       "      <td>3428.0</td>\n",
       "      <td>0.193643</td>\n",
       "      <td>0.096141</td>\n",
       "      <td>0.000000</td>\n",
       "      <td>0.127451</td>\n",
       "      <td>0.176471</td>\n",
       "      <td>0.235294</td>\n",
       "      <td>0.906863</td>\n",
       "    </tr>\n",
       "    <tr>\n",
       "      <th>x3</th>\n",
       "      <td>3428.0</td>\n",
       "      <td>0.201150</td>\n",
       "      <td>0.073212</td>\n",
       "      <td>0.000000</td>\n",
       "      <td>0.162651</td>\n",
       "      <td>0.186747</td>\n",
       "      <td>0.234940</td>\n",
       "      <td>1.000000</td>\n",
       "    </tr>\n",
       "    <tr>\n",
       "      <th>x4</th>\n",
       "      <td>3428.0</td>\n",
       "      <td>0.088768</td>\n",
       "      <td>0.077514</td>\n",
       "      <td>0.000000</td>\n",
       "      <td>0.016871</td>\n",
       "      <td>0.070552</td>\n",
       "      <td>0.142638</td>\n",
       "      <td>1.000000</td>\n",
       "    </tr>\n",
       "    <tr>\n",
       "      <th>x5</th>\n",
       "      <td>3428.0</td>\n",
       "      <td>0.109377</td>\n",
       "      <td>0.066601</td>\n",
       "      <td>0.008902</td>\n",
       "      <td>0.080119</td>\n",
       "      <td>0.100890</td>\n",
       "      <td>0.121662</td>\n",
       "      <td>1.000000</td>\n",
       "    </tr>\n",
       "    <tr>\n",
       "      <th>x6</th>\n",
       "      <td>3428.0</td>\n",
       "      <td>0.115222</td>\n",
       "      <td>0.057253</td>\n",
       "      <td>0.000000</td>\n",
       "      <td>0.073171</td>\n",
       "      <td>0.111498</td>\n",
       "      <td>0.153310</td>\n",
       "      <td>0.449477</td>\n",
       "    </tr>\n",
       "    <tr>\n",
       "      <th>x7</th>\n",
       "      <td>3428.0</td>\n",
       "      <td>0.299515</td>\n",
       "      <td>0.097947</td>\n",
       "      <td>0.000000</td>\n",
       "      <td>0.227378</td>\n",
       "      <td>0.290023</td>\n",
       "      <td>0.366589</td>\n",
       "      <td>0.777262</td>\n",
       "    </tr>\n",
       "    <tr>\n",
       "      <th>x8</th>\n",
       "      <td>3428.0</td>\n",
       "      <td>0.133386</td>\n",
       "      <td>0.057208</td>\n",
       "      <td>0.000000</td>\n",
       "      <td>0.090418</td>\n",
       "      <td>0.128976</td>\n",
       "      <td>0.172209</td>\n",
       "      <td>1.000000</td>\n",
       "    </tr>\n",
       "    <tr>\n",
       "      <th>x9</th>\n",
       "      <td>3428.0</td>\n",
       "      <td>0.422990</td>\n",
       "      <td>0.137020</td>\n",
       "      <td>0.000000</td>\n",
       "      <td>0.327273</td>\n",
       "      <td>0.409091</td>\n",
       "      <td>0.502273</td>\n",
       "      <td>1.000000</td>\n",
       "    </tr>\n",
       "    <tr>\n",
       "      <th>x10</th>\n",
       "      <td>3428.0</td>\n",
       "      <td>0.313089</td>\n",
       "      <td>0.132460</td>\n",
       "      <td>0.000000</td>\n",
       "      <td>0.220930</td>\n",
       "      <td>0.302326</td>\n",
       "      <td>0.383721</td>\n",
       "      <td>1.000000</td>\n",
       "    </tr>\n",
       "    <tr>\n",
       "      <th>x11</th>\n",
       "      <td>3428.0</td>\n",
       "      <td>0.404071</td>\n",
       "      <td>0.196717</td>\n",
       "      <td>0.000000</td>\n",
       "      <td>0.241935</td>\n",
       "      <td>0.387097</td>\n",
       "      <td>0.548387</td>\n",
       "      <td>0.975806</td>\n",
       "    </tr>\n",
       "    <tr>\n",
       "      <th>target</th>\n",
       "      <td>3428.0</td>\n",
       "      <td>0.448658</td>\n",
       "      <td>0.497430</td>\n",
       "      <td>0.000000</td>\n",
       "      <td>0.000000</td>\n",
       "      <td>0.000000</td>\n",
       "      <td>1.000000</td>\n",
       "      <td>1.000000</td>\n",
       "    </tr>\n",
       "  </tbody>\n",
       "</table>\n",
       "</div>"
      ],
      "text/plain": [
       "         count      mean       std       min       25%       50%       75%  \\\n",
       "x1      3428.0  0.294153  0.081188  0.000000  0.240385  0.288462  0.336538   \n",
       "x2      3428.0  0.193643  0.096141  0.000000  0.127451  0.176471  0.235294   \n",
       "x3      3428.0  0.201150  0.073212  0.000000  0.162651  0.186747  0.234940   \n",
       "x4      3428.0  0.088768  0.077514  0.000000  0.016871  0.070552  0.142638   \n",
       "x5      3428.0  0.109377  0.066601  0.008902  0.080119  0.100890  0.121662   \n",
       "x6      3428.0  0.115222  0.057253  0.000000  0.073171  0.111498  0.153310   \n",
       "x7      3428.0  0.299515  0.097947  0.000000  0.227378  0.290023  0.366589   \n",
       "x8      3428.0  0.133386  0.057208  0.000000  0.090418  0.128976  0.172209   \n",
       "x9      3428.0  0.422990  0.137020  0.000000  0.327273  0.409091  0.502273   \n",
       "x10     3428.0  0.313089  0.132460  0.000000  0.220930  0.302326  0.383721   \n",
       "x11     3428.0  0.404071  0.196717  0.000000  0.241935  0.387097  0.548387   \n",
       "target  3428.0  0.448658  0.497430  0.000000  0.000000  0.000000  1.000000   \n",
       "\n",
       "             max  \n",
       "x1      0.769231  \n",
       "x2      0.906863  \n",
       "x3      1.000000  \n",
       "x4      1.000000  \n",
       "x5      1.000000  \n",
       "x6      0.449477  \n",
       "x7      0.777262  \n",
       "x8      1.000000  \n",
       "x9      1.000000  \n",
       "x10     1.000000  \n",
       "x11     0.975806  \n",
       "target  1.000000  "
      ]
     },
     "execution_count": 12,
     "metadata": {},
     "output_type": "execute_result"
    }
   ],
   "source": [
    "df.describe().T"
   ]
  },
  {
   "cell_type": "code",
   "execution_count": 119,
   "id": "6351a66c",
   "metadata": {
    "ExecuteTime": {
     "end_time": "2022-10-01T02:36:33.136967Z",
     "start_time": "2022-10-01T02:36:32.985870Z"
    }
   },
   "outputs": [
    {
     "data": {
      "text/plain": [
       "0    1890\n",
       "1    1538\n",
       "Name: target, dtype: int64"
      ]
     },
     "execution_count": 119,
     "metadata": {},
     "output_type": "execute_result"
    }
   ],
   "source": [
    "df['target'].value_counts()"
   ]
  },
  {
   "cell_type": "markdown",
   "id": "ad08332b",
   "metadata": {},
   "source": [
    "#### Testing dataset"
   ]
  },
  {
   "cell_type": "code",
   "execution_count": 117,
   "id": "404f5acf",
   "metadata": {
    "ExecuteTime": {
     "end_time": "2022-10-01T02:35:56.309813Z",
     "start_time": "2022-10-01T02:35:56.162754Z"
    }
   },
   "outputs": [
    {
     "name": "stdout",
     "output_type": "stream",
     "text": [
      "<class 'pandas.core.frame.DataFrame'>\n",
      "Int64Index: 1470 entries, 4325 to 3707\n",
      "Data columns (total 11 columns):\n",
      " #   Column  Non-Null Count  Dtype  \n",
      "---  ------  --------------  -----  \n",
      " 0   x1      1470 non-null   float64\n",
      " 1   x2      1470 non-null   float64\n",
      " 2   x3      1470 non-null   float64\n",
      " 3   x4      1470 non-null   float64\n",
      " 4   x5      1470 non-null   float64\n",
      " 5   x6      1470 non-null   float64\n",
      " 6   x7      1470 non-null   float64\n",
      " 7   x8      1470 non-null   float64\n",
      " 8   x9      1470 non-null   float64\n",
      " 9   x10     1470 non-null   float64\n",
      " 10  x11     1470 non-null   float64\n",
      "dtypes: float64(11)\n",
      "memory usage: 137.8 KB\n"
     ]
    }
   ],
   "source": [
    "df_test.info()"
   ]
  },
  {
   "cell_type": "code",
   "execution_count": 118,
   "id": "cffe8801",
   "metadata": {
    "ExecuteTime": {
     "end_time": "2022-10-01T02:36:11.559213Z",
     "start_time": "2022-10-01T02:36:11.394174Z"
    }
   },
   "outputs": [
    {
     "data": {
      "text/html": [
       "<div>\n",
       "<style scoped>\n",
       "    .dataframe tbody tr th:only-of-type {\n",
       "        vertical-align: middle;\n",
       "    }\n",
       "\n",
       "    .dataframe tbody tr th {\n",
       "        vertical-align: top;\n",
       "    }\n",
       "\n",
       "    .dataframe thead th {\n",
       "        text-align: right;\n",
       "    }\n",
       "</style>\n",
       "<table border=\"1\" class=\"dataframe\">\n",
       "  <thead>\n",
       "    <tr style=\"text-align: right;\">\n",
       "      <th></th>\n",
       "      <th>count</th>\n",
       "      <th>mean</th>\n",
       "      <th>std</th>\n",
       "      <th>min</th>\n",
       "      <th>25%</th>\n",
       "      <th>50%</th>\n",
       "      <th>75%</th>\n",
       "      <th>max</th>\n",
       "    </tr>\n",
       "  </thead>\n",
       "  <tbody>\n",
       "    <tr>\n",
       "      <th>x1</th>\n",
       "      <td>1470.0</td>\n",
       "      <td>0.292743</td>\n",
       "      <td>0.081052</td>\n",
       "      <td>0.038462</td>\n",
       "      <td>0.240385</td>\n",
       "      <td>0.288462</td>\n",
       "      <td>0.346154</td>\n",
       "      <td>1.000000</td>\n",
       "    </tr>\n",
       "    <tr>\n",
       "      <th>x2</th>\n",
       "      <td>1470.0</td>\n",
       "      <td>0.196012</td>\n",
       "      <td>0.104812</td>\n",
       "      <td>0.000000</td>\n",
       "      <td>0.127451</td>\n",
       "      <td>0.176471</td>\n",
       "      <td>0.235294</td>\n",
       "      <td>1.000000</td>\n",
       "    </tr>\n",
       "    <tr>\n",
       "      <th>x3</th>\n",
       "      <td>1470.0</td>\n",
       "      <td>0.201717</td>\n",
       "      <td>0.072203</td>\n",
       "      <td>0.000000</td>\n",
       "      <td>0.162651</td>\n",
       "      <td>0.192771</td>\n",
       "      <td>0.234940</td>\n",
       "      <td>0.602410</td>\n",
       "    </tr>\n",
       "    <tr>\n",
       "      <th>x4</th>\n",
       "      <td>1470.0</td>\n",
       "      <td>0.088960</td>\n",
       "      <td>0.078464</td>\n",
       "      <td>0.001534</td>\n",
       "      <td>0.016871</td>\n",
       "      <td>0.069018</td>\n",
       "      <td>0.141104</td>\n",
       "      <td>0.475460</td>\n",
       "    </tr>\n",
       "    <tr>\n",
       "      <th>x5</th>\n",
       "      <td>1470.0</td>\n",
       "      <td>0.108510</td>\n",
       "      <td>0.060518</td>\n",
       "      <td>0.000000</td>\n",
       "      <td>0.080119</td>\n",
       "      <td>0.100890</td>\n",
       "      <td>0.121662</td>\n",
       "      <td>0.617211</td>\n",
       "    </tr>\n",
       "    <tr>\n",
       "      <th>x6</th>\n",
       "      <td>1470.0</td>\n",
       "      <td>0.118001</td>\n",
       "      <td>0.063668</td>\n",
       "      <td>0.003484</td>\n",
       "      <td>0.076655</td>\n",
       "      <td>0.111498</td>\n",
       "      <td>0.153310</td>\n",
       "      <td>1.000000</td>\n",
       "    </tr>\n",
       "    <tr>\n",
       "      <th>x7</th>\n",
       "      <td>1470.0</td>\n",
       "      <td>0.301599</td>\n",
       "      <td>0.100136</td>\n",
       "      <td>0.034803</td>\n",
       "      <td>0.232019</td>\n",
       "      <td>0.292343</td>\n",
       "      <td>0.366589</td>\n",
       "      <td>1.000000</td>\n",
       "    </tr>\n",
       "    <tr>\n",
       "      <th>x8</th>\n",
       "      <td>1470.0</td>\n",
       "      <td>0.133299</td>\n",
       "      <td>0.058726</td>\n",
       "      <td>0.005591</td>\n",
       "      <td>0.086563</td>\n",
       "      <td>0.127048</td>\n",
       "      <td>0.176403</td>\n",
       "      <td>0.447079</td>\n",
       "    </tr>\n",
       "    <tr>\n",
       "      <th>x9</th>\n",
       "      <td>1470.0</td>\n",
       "      <td>0.432010</td>\n",
       "      <td>0.137703</td>\n",
       "      <td>0.063636</td>\n",
       "      <td>0.336364</td>\n",
       "      <td>0.418182</td>\n",
       "      <td>0.518182</td>\n",
       "      <td>0.936364</td>\n",
       "    </tr>\n",
       "    <tr>\n",
       "      <th>x10</th>\n",
       "      <td>1470.0</td>\n",
       "      <td>0.315377</td>\n",
       "      <td>0.133304</td>\n",
       "      <td>0.034884</td>\n",
       "      <td>0.220930</td>\n",
       "      <td>0.290698</td>\n",
       "      <td>0.383721</td>\n",
       "      <td>0.883721</td>\n",
       "    </tr>\n",
       "    <tr>\n",
       "      <th>x11</th>\n",
       "      <td>1470.0</td>\n",
       "      <td>0.408922</td>\n",
       "      <td>0.202582</td>\n",
       "      <td>0.000000</td>\n",
       "      <td>0.225806</td>\n",
       "      <td>0.387097</td>\n",
       "      <td>0.548387</td>\n",
       "      <td>1.000000</td>\n",
       "    </tr>\n",
       "  </tbody>\n",
       "</table>\n",
       "</div>"
      ],
      "text/plain": [
       "      count      mean       std       min       25%       50%       75%  \\\n",
       "x1   1470.0  0.292743  0.081052  0.038462  0.240385  0.288462  0.346154   \n",
       "x2   1470.0  0.196012  0.104812  0.000000  0.127451  0.176471  0.235294   \n",
       "x3   1470.0  0.201717  0.072203  0.000000  0.162651  0.192771  0.234940   \n",
       "x4   1470.0  0.088960  0.078464  0.001534  0.016871  0.069018  0.141104   \n",
       "x5   1470.0  0.108510  0.060518  0.000000  0.080119  0.100890  0.121662   \n",
       "x6   1470.0  0.118001  0.063668  0.003484  0.076655  0.111498  0.153310   \n",
       "x7   1470.0  0.301599  0.100136  0.034803  0.232019  0.292343  0.366589   \n",
       "x8   1470.0  0.133299  0.058726  0.005591  0.086563  0.127048  0.176403   \n",
       "x9   1470.0  0.432010  0.137703  0.063636  0.336364  0.418182  0.518182   \n",
       "x10  1470.0  0.315377  0.133304  0.034884  0.220930  0.290698  0.383721   \n",
       "x11  1470.0  0.408922  0.202582  0.000000  0.225806  0.387097  0.548387   \n",
       "\n",
       "          max  \n",
       "x1   1.000000  \n",
       "x2   1.000000  \n",
       "x3   0.602410  \n",
       "x4   0.475460  \n",
       "x5   0.617211  \n",
       "x6   1.000000  \n",
       "x7   1.000000  \n",
       "x8   0.447079  \n",
       "x9   0.936364  \n",
       "x10  0.883721  \n",
       "x11  1.000000  "
      ]
     },
     "execution_count": 118,
     "metadata": {},
     "output_type": "execute_result"
    }
   ],
   "source": [
    "df_test.describe().T"
   ]
  },
  {
   "cell_type": "markdown",
   "id": "7eeeab2e",
   "metadata": {},
   "source": [
    "**Conclusion**\n",
    "\n",
    "There is no null values in the training dataset. Besides, the 11 (eleven) features have the same scale from 0 to 1."
   ]
  },
  {
   "cell_type": "markdown",
   "id": "5e595cb1",
   "metadata": {},
   "source": [
    "# Data processing\n",
    "Put here the core of the notebook. Feel free di further split this section into subsections."
   ]
  },
  {
   "cell_type": "code",
   "execution_count": 74,
   "id": "79e7a69e",
   "metadata": {
    "ExecuteTime": {
     "end_time": "2022-10-01T02:17:10.009727Z",
     "start_time": "2022-10-01T02:17:09.859889Z"
    }
   },
   "outputs": [
    {
     "name": "stdout",
     "output_type": "stream",
     "text": [
      "X_train's shape: (3085, 11)\n",
      "X_test's shape: (343, 11)\n",
      "y_train's shape: (3085,)\n",
      "y_test's shape: (343,)\n"
     ]
    }
   ],
   "source": [
    "X = df.drop(columns=['target']).copy()\n",
    "y = df['target'].copy()\n",
    "\n",
    "X_train, X_test, y_train, y_test = train_test_split(X, y, test_size=.1, random_state=RANDON_STATE)\n",
    "\n",
    "print(f\"\"\"X_train's shape: {X_train.shape}\n",
    "X_test's shape: {X_test.shape}\n",
    "y_train's shape: {y_train.shape}\n",
    "y_test's shape: {y_test.shape}\"\"\")"
   ]
  },
  {
   "cell_type": "markdown",
   "id": "4bd7e3a9",
   "metadata": {},
   "source": [
    "# Modeling\n",
    "\n",
    "## 1st experiment: default hyperparameters"
   ]
  },
  {
   "cell_type": "code",
   "execution_count": 75,
   "id": "9d8bdf06",
   "metadata": {
    "ExecuteTime": {
     "end_time": "2022-10-01T02:17:10.988095Z",
     "start_time": "2022-10-01T02:17:10.844094Z"
    }
   },
   "outputs": [
    {
     "data": {
      "text/html": [
       "<style>#sk-container-id-15 {color: black;background-color: white;}#sk-container-id-15 pre{padding: 0;}#sk-container-id-15 div.sk-toggleable {background-color: white;}#sk-container-id-15 label.sk-toggleable__label {cursor: pointer;display: block;width: 100%;margin-bottom: 0;padding: 0.3em;box-sizing: border-box;text-align: center;}#sk-container-id-15 label.sk-toggleable__label-arrow:before {content: \"▸\";float: left;margin-right: 0.25em;color: #696969;}#sk-container-id-15 label.sk-toggleable__label-arrow:hover:before {color: black;}#sk-container-id-15 div.sk-estimator:hover label.sk-toggleable__label-arrow:before {color: black;}#sk-container-id-15 div.sk-toggleable__content {max-height: 0;max-width: 0;overflow: hidden;text-align: left;background-color: #f0f8ff;}#sk-container-id-15 div.sk-toggleable__content pre {margin: 0.2em;color: black;border-radius: 0.25em;background-color: #f0f8ff;}#sk-container-id-15 input.sk-toggleable__control:checked~div.sk-toggleable__content {max-height: 200px;max-width: 100%;overflow: auto;}#sk-container-id-15 input.sk-toggleable__control:checked~label.sk-toggleable__label-arrow:before {content: \"▾\";}#sk-container-id-15 div.sk-estimator input.sk-toggleable__control:checked~label.sk-toggleable__label {background-color: #d4ebff;}#sk-container-id-15 div.sk-label input.sk-toggleable__control:checked~label.sk-toggleable__label {background-color: #d4ebff;}#sk-container-id-15 input.sk-hidden--visually {border: 0;clip: rect(1px 1px 1px 1px);clip: rect(1px, 1px, 1px, 1px);height: 1px;margin: -1px;overflow: hidden;padding: 0;position: absolute;width: 1px;}#sk-container-id-15 div.sk-estimator {font-family: monospace;background-color: #f0f8ff;border: 1px dotted black;border-radius: 0.25em;box-sizing: border-box;margin-bottom: 0.5em;}#sk-container-id-15 div.sk-estimator:hover {background-color: #d4ebff;}#sk-container-id-15 div.sk-parallel-item::after {content: \"\";width: 100%;border-bottom: 1px solid gray;flex-grow: 1;}#sk-container-id-15 div.sk-label:hover label.sk-toggleable__label {background-color: #d4ebff;}#sk-container-id-15 div.sk-serial::before {content: \"\";position: absolute;border-left: 1px solid gray;box-sizing: border-box;top: 0;bottom: 0;left: 50%;z-index: 0;}#sk-container-id-15 div.sk-serial {display: flex;flex-direction: column;align-items: center;background-color: white;padding-right: 0.2em;padding-left: 0.2em;position: relative;}#sk-container-id-15 div.sk-item {position: relative;z-index: 1;}#sk-container-id-15 div.sk-parallel {display: flex;align-items: stretch;justify-content: center;background-color: white;position: relative;}#sk-container-id-15 div.sk-item::before, #sk-container-id-15 div.sk-parallel-item::before {content: \"\";position: absolute;border-left: 1px solid gray;box-sizing: border-box;top: 0;bottom: 0;left: 50%;z-index: -1;}#sk-container-id-15 div.sk-parallel-item {display: flex;flex-direction: column;z-index: 1;position: relative;background-color: white;}#sk-container-id-15 div.sk-parallel-item:first-child::after {align-self: flex-end;width: 50%;}#sk-container-id-15 div.sk-parallel-item:last-child::after {align-self: flex-start;width: 50%;}#sk-container-id-15 div.sk-parallel-item:only-child::after {width: 0;}#sk-container-id-15 div.sk-dashed-wrapped {border: 1px dashed gray;margin: 0 0.4em 0.5em 0.4em;box-sizing: border-box;padding-bottom: 0.4em;background-color: white;}#sk-container-id-15 div.sk-label label {font-family: monospace;font-weight: bold;display: inline-block;line-height: 1.2em;}#sk-container-id-15 div.sk-label-container {text-align: center;}#sk-container-id-15 div.sk-container {/* jupyter's `normalize.less` sets `[hidden] { display: none; }` but bootstrap.min.css set `[hidden] { display: none !important; }` so we also need the `!important` here to be able to override the default hidden behavior on the sphinx rendered scikit-learn.org. See: https://github.com/scikit-learn/scikit-learn/issues/21755 */display: inline-block !important;position: relative;}#sk-container-id-15 div.sk-text-repr-fallback {display: none;}</style><div id=\"sk-container-id-15\" class=\"sk-top-container\"><div class=\"sk-text-repr-fallback\"><pre>KNeighborsClassifier(n_jobs=-1)</pre><b>In a Jupyter environment, please rerun this cell to show the HTML representation or trust the notebook. <br />On GitHub, the HTML representation is unable to render, please try loading this page with nbviewer.org.</b></div><div class=\"sk-container\" hidden><div class=\"sk-item\"><div class=\"sk-estimator sk-toggleable\"><input class=\"sk-toggleable__control sk-hidden--visually\" id=\"sk-estimator-id-17\" type=\"checkbox\" checked><label for=\"sk-estimator-id-17\" class=\"sk-toggleable__label sk-toggleable__label-arrow\">KNeighborsClassifier</label><div class=\"sk-toggleable__content\"><pre>KNeighborsClassifier(n_jobs=-1)</pre></div></div></div></div></div>"
      ],
      "text/plain": [
       "KNeighborsClassifier(n_jobs=-1)"
      ]
     },
     "execution_count": 75,
     "metadata": {},
     "output_type": "execute_result"
    }
   ],
   "source": [
    "model = KNeighborsClassifier(n_jobs=-1)\n",
    "\n",
    "model.fit(X_train, y_train)"
   ]
  },
  {
   "cell_type": "code",
   "execution_count": 76,
   "id": "549d320e",
   "metadata": {
    "ExecuteTime": {
     "end_time": "2022-10-01T02:17:12.171835Z",
     "start_time": "2022-10-01T02:17:12.004375Z"
    }
   },
   "outputs": [
    {
     "name": "stdout",
     "output_type": "stream",
     "text": [
      "              precision    recall  f1-score   support\n",
      "\n",
      "           0       0.63      0.72      0.67       180\n",
      "           1       0.63      0.53      0.58       163\n",
      "\n",
      "    accuracy                           0.63       343\n",
      "   macro avg       0.63      0.62      0.62       343\n",
      "weighted avg       0.63      0.63      0.63       343\n",
      "\n"
     ]
    }
   ],
   "source": [
    "y_pred = model.predict(X_test)\n",
    "print(classification_report(y_test, y_pred))"
   ]
  },
  {
   "cell_type": "markdown",
   "id": "c5826e0f",
   "metadata": {},
   "source": [
    "### Predicting testing dataset"
   ]
  },
  {
   "cell_type": "code",
   "execution_count": 77,
   "id": "79d2cc2d",
   "metadata": {
    "ExecuteTime": {
     "end_time": "2022-10-01T02:18:02.936005Z",
     "start_time": "2022-10-01T02:18:02.730318Z"
    }
   },
   "outputs": [],
   "source": [
    "y_df_test = model.predict(df_test)\n",
    "pd.DataFrame(y_df_test, index=df_test.index, columns=['target']).to_csv(DATA_FOLDER + 'output_1st_experiment.csv', sep=',')"
   ]
  },
  {
   "cell_type": "markdown",
   "id": "dd926811",
   "metadata": {},
   "source": [
    "## 2nd experiment: randomized grid search"
   ]
  },
  {
   "cell_type": "code",
   "execution_count": 78,
   "id": "c8660979",
   "metadata": {
    "ExecuteTime": {
     "end_time": "2022-10-01T02:18:07.707286Z",
     "start_time": "2022-10-01T02:18:06.177292Z"
    }
   },
   "outputs": [
    {
     "name": "stdout",
     "output_type": "stream",
     "text": [
      "Best score (accuracy): 0.6836369940738873\n",
      "Best params: {'weights': 'distance', 'n_neighbors': 16}\n"
     ]
    }
   ],
   "source": [
    "model = KNeighborsClassifier(n_jobs=-1)\n",
    "\n",
    "params = {\n",
    "    'n_neighbors': np.arange(4, 50, 2).tolist(),\n",
    "    'weights': ['uniform', 'distance'],\n",
    "}\n",
    "\n",
    "random_search = RandomizedSearchCV(\n",
    "    model, param_distributions=params, scoring='accuracy', random_state=RANDON_STATE, cv=10, n_iter=20, n_jobs=-1\n",
    ")\n",
    "\n",
    "random_search.fit(X_train, y_train)\n",
    "\n",
    "print(f\"\"\"Best score (accuracy): {random_search.best_score_}\n",
    "Best params: {random_search.best_params_}\"\"\")"
   ]
  },
  {
   "cell_type": "code",
   "execution_count": 79,
   "id": "7f4061a1",
   "metadata": {
    "ExecuteTime": {
     "end_time": "2022-10-01T02:18:09.024568Z",
     "start_time": "2022-10-01T02:18:08.882554Z"
    }
   },
   "outputs": [
    {
     "data": {
      "text/html": [
       "<style>#sk-container-id-16 {color: black;background-color: white;}#sk-container-id-16 pre{padding: 0;}#sk-container-id-16 div.sk-toggleable {background-color: white;}#sk-container-id-16 label.sk-toggleable__label {cursor: pointer;display: block;width: 100%;margin-bottom: 0;padding: 0.3em;box-sizing: border-box;text-align: center;}#sk-container-id-16 label.sk-toggleable__label-arrow:before {content: \"▸\";float: left;margin-right: 0.25em;color: #696969;}#sk-container-id-16 label.sk-toggleable__label-arrow:hover:before {color: black;}#sk-container-id-16 div.sk-estimator:hover label.sk-toggleable__label-arrow:before {color: black;}#sk-container-id-16 div.sk-toggleable__content {max-height: 0;max-width: 0;overflow: hidden;text-align: left;background-color: #f0f8ff;}#sk-container-id-16 div.sk-toggleable__content pre {margin: 0.2em;color: black;border-radius: 0.25em;background-color: #f0f8ff;}#sk-container-id-16 input.sk-toggleable__control:checked~div.sk-toggleable__content {max-height: 200px;max-width: 100%;overflow: auto;}#sk-container-id-16 input.sk-toggleable__control:checked~label.sk-toggleable__label-arrow:before {content: \"▾\";}#sk-container-id-16 div.sk-estimator input.sk-toggleable__control:checked~label.sk-toggleable__label {background-color: #d4ebff;}#sk-container-id-16 div.sk-label input.sk-toggleable__control:checked~label.sk-toggleable__label {background-color: #d4ebff;}#sk-container-id-16 input.sk-hidden--visually {border: 0;clip: rect(1px 1px 1px 1px);clip: rect(1px, 1px, 1px, 1px);height: 1px;margin: -1px;overflow: hidden;padding: 0;position: absolute;width: 1px;}#sk-container-id-16 div.sk-estimator {font-family: monospace;background-color: #f0f8ff;border: 1px dotted black;border-radius: 0.25em;box-sizing: border-box;margin-bottom: 0.5em;}#sk-container-id-16 div.sk-estimator:hover {background-color: #d4ebff;}#sk-container-id-16 div.sk-parallel-item::after {content: \"\";width: 100%;border-bottom: 1px solid gray;flex-grow: 1;}#sk-container-id-16 div.sk-label:hover label.sk-toggleable__label {background-color: #d4ebff;}#sk-container-id-16 div.sk-serial::before {content: \"\";position: absolute;border-left: 1px solid gray;box-sizing: border-box;top: 0;bottom: 0;left: 50%;z-index: 0;}#sk-container-id-16 div.sk-serial {display: flex;flex-direction: column;align-items: center;background-color: white;padding-right: 0.2em;padding-left: 0.2em;position: relative;}#sk-container-id-16 div.sk-item {position: relative;z-index: 1;}#sk-container-id-16 div.sk-parallel {display: flex;align-items: stretch;justify-content: center;background-color: white;position: relative;}#sk-container-id-16 div.sk-item::before, #sk-container-id-16 div.sk-parallel-item::before {content: \"\";position: absolute;border-left: 1px solid gray;box-sizing: border-box;top: 0;bottom: 0;left: 50%;z-index: -1;}#sk-container-id-16 div.sk-parallel-item {display: flex;flex-direction: column;z-index: 1;position: relative;background-color: white;}#sk-container-id-16 div.sk-parallel-item:first-child::after {align-self: flex-end;width: 50%;}#sk-container-id-16 div.sk-parallel-item:last-child::after {align-self: flex-start;width: 50%;}#sk-container-id-16 div.sk-parallel-item:only-child::after {width: 0;}#sk-container-id-16 div.sk-dashed-wrapped {border: 1px dashed gray;margin: 0 0.4em 0.5em 0.4em;box-sizing: border-box;padding-bottom: 0.4em;background-color: white;}#sk-container-id-16 div.sk-label label {font-family: monospace;font-weight: bold;display: inline-block;line-height: 1.2em;}#sk-container-id-16 div.sk-label-container {text-align: center;}#sk-container-id-16 div.sk-container {/* jupyter's `normalize.less` sets `[hidden] { display: none; }` but bootstrap.min.css set `[hidden] { display: none !important; }` so we also need the `!important` here to be able to override the default hidden behavior on the sphinx rendered scikit-learn.org. See: https://github.com/scikit-learn/scikit-learn/issues/21755 */display: inline-block !important;position: relative;}#sk-container-id-16 div.sk-text-repr-fallback {display: none;}</style><div id=\"sk-container-id-16\" class=\"sk-top-container\"><div class=\"sk-text-repr-fallback\"><pre>KNeighborsClassifier(n_jobs=-1, n_neighbors=16, weights=&#x27;distance&#x27;)</pre><b>In a Jupyter environment, please rerun this cell to show the HTML representation or trust the notebook. <br />On GitHub, the HTML representation is unable to render, please try loading this page with nbviewer.org.</b></div><div class=\"sk-container\" hidden><div class=\"sk-item\"><div class=\"sk-estimator sk-toggleable\"><input class=\"sk-toggleable__control sk-hidden--visually\" id=\"sk-estimator-id-18\" type=\"checkbox\" checked><label for=\"sk-estimator-id-18\" class=\"sk-toggleable__label sk-toggleable__label-arrow\">KNeighborsClassifier</label><div class=\"sk-toggleable__content\"><pre>KNeighborsClassifier(n_jobs=-1, n_neighbors=16, weights=&#x27;distance&#x27;)</pre></div></div></div></div></div>"
      ],
      "text/plain": [
       "KNeighborsClassifier(n_jobs=-1, n_neighbors=16, weights='distance')"
      ]
     },
     "execution_count": 79,
     "metadata": {},
     "output_type": "execute_result"
    }
   ],
   "source": [
    "model = KNeighborsClassifier(**random_search.best_params_, n_jobs=-1)\n",
    "\n",
    "model.fit(X_train, y_train)"
   ]
  },
  {
   "cell_type": "code",
   "execution_count": 80,
   "id": "191b2a71",
   "metadata": {
    "ExecuteTime": {
     "end_time": "2022-10-01T02:18:14.753059Z",
     "start_time": "2022-10-01T02:18:14.576063Z"
    },
    "scrolled": true
   },
   "outputs": [
    {
     "name": "stdout",
     "output_type": "stream",
     "text": [
      "              precision    recall  f1-score   support\n",
      "\n",
      "           0       0.69      0.78      0.73       180\n",
      "           1       0.72      0.61      0.66       163\n",
      "\n",
      "    accuracy                           0.70       343\n",
      "   macro avg       0.71      0.70      0.70       343\n",
      "weighted avg       0.70      0.70      0.70       343\n",
      "\n"
     ]
    }
   ],
   "source": [
    "y_pred = model.predict(X_test)\n",
    "print(classification_report(y_test, y_pred))"
   ]
  },
  {
   "cell_type": "markdown",
   "id": "befe412a",
   "metadata": {},
   "source": [
    "### Predicting testing dataset"
   ]
  },
  {
   "cell_type": "code",
   "execution_count": 81,
   "id": "7684bd8b",
   "metadata": {
    "ExecuteTime": {
     "end_time": "2022-10-01T02:18:22.202576Z",
     "start_time": "2022-10-01T02:18:22.010460Z"
    }
   },
   "outputs": [],
   "source": [
    "y_df_test = model.predict(df_test)\n",
    "pd.DataFrame(y_df_test, index=df_test.index, columns=['target']).to_csv(DATA_FOLDER + 'output_2nd_experiment.csv', sep=',')"
   ]
  },
  {
   "cell_type": "markdown",
   "id": "6ea02c58",
   "metadata": {},
   "source": [
    "## 3rd experiment: grid search"
   ]
  },
  {
   "cell_type": "code",
   "execution_count": 113,
   "id": "70275a33",
   "metadata": {
    "ExecuteTime": {
     "end_time": "2022-10-01T02:33:02.869826Z",
     "start_time": "2022-10-01T02:32:52.675835Z"
    }
   },
   "outputs": [
    {
     "name": "stdout",
     "output_type": "stream",
     "text": [
      "Best score (accuracy): 0.7684933545986178\n",
      "Best params: {'metric': 'manhattan', 'n_neighbors': 24, 'weights': 'distance'}\n"
     ]
    }
   ],
   "source": [
    "model = KNeighborsClassifier(n_jobs=-1)\n",
    "\n",
    "params = {\n",
    "    'n_neighbors': np.arange(4, 50, 2).tolist(),\n",
    "    'weights': ['uniform', 'distance'],\n",
    "    'metric': ['manhattan', 'euclidean', 'cosine']\n",
    "}\n",
    "\n",
    "grid_search = GridSearchCV(\n",
    "    model, param_grid=params, scoring='roc_auc', cv=5, n_jobs=-1\n",
    ")\n",
    "\n",
    "grid_search.fit(X_train, y_train)\n",
    "\n",
    "print(f\"\"\"Best score (accuracy): {grid_search.best_score_}\n",
    "Best params: {grid_search.best_params_}\"\"\")"
   ]
  },
  {
   "cell_type": "code",
   "execution_count": 114,
   "id": "d5d9c201",
   "metadata": {
    "ExecuteTime": {
     "end_time": "2022-10-01T02:33:09.873873Z",
     "start_time": "2022-10-01T02:33:09.723871Z"
    }
   },
   "outputs": [
    {
     "data": {
      "text/html": [
       "<style>#sk-container-id-20 {color: black;background-color: white;}#sk-container-id-20 pre{padding: 0;}#sk-container-id-20 div.sk-toggleable {background-color: white;}#sk-container-id-20 label.sk-toggleable__label {cursor: pointer;display: block;width: 100%;margin-bottom: 0;padding: 0.3em;box-sizing: border-box;text-align: center;}#sk-container-id-20 label.sk-toggleable__label-arrow:before {content: \"▸\";float: left;margin-right: 0.25em;color: #696969;}#sk-container-id-20 label.sk-toggleable__label-arrow:hover:before {color: black;}#sk-container-id-20 div.sk-estimator:hover label.sk-toggleable__label-arrow:before {color: black;}#sk-container-id-20 div.sk-toggleable__content {max-height: 0;max-width: 0;overflow: hidden;text-align: left;background-color: #f0f8ff;}#sk-container-id-20 div.sk-toggleable__content pre {margin: 0.2em;color: black;border-radius: 0.25em;background-color: #f0f8ff;}#sk-container-id-20 input.sk-toggleable__control:checked~div.sk-toggleable__content {max-height: 200px;max-width: 100%;overflow: auto;}#sk-container-id-20 input.sk-toggleable__control:checked~label.sk-toggleable__label-arrow:before {content: \"▾\";}#sk-container-id-20 div.sk-estimator input.sk-toggleable__control:checked~label.sk-toggleable__label {background-color: #d4ebff;}#sk-container-id-20 div.sk-label input.sk-toggleable__control:checked~label.sk-toggleable__label {background-color: #d4ebff;}#sk-container-id-20 input.sk-hidden--visually {border: 0;clip: rect(1px 1px 1px 1px);clip: rect(1px, 1px, 1px, 1px);height: 1px;margin: -1px;overflow: hidden;padding: 0;position: absolute;width: 1px;}#sk-container-id-20 div.sk-estimator {font-family: monospace;background-color: #f0f8ff;border: 1px dotted black;border-radius: 0.25em;box-sizing: border-box;margin-bottom: 0.5em;}#sk-container-id-20 div.sk-estimator:hover {background-color: #d4ebff;}#sk-container-id-20 div.sk-parallel-item::after {content: \"\";width: 100%;border-bottom: 1px solid gray;flex-grow: 1;}#sk-container-id-20 div.sk-label:hover label.sk-toggleable__label {background-color: #d4ebff;}#sk-container-id-20 div.sk-serial::before {content: \"\";position: absolute;border-left: 1px solid gray;box-sizing: border-box;top: 0;bottom: 0;left: 50%;z-index: 0;}#sk-container-id-20 div.sk-serial {display: flex;flex-direction: column;align-items: center;background-color: white;padding-right: 0.2em;padding-left: 0.2em;position: relative;}#sk-container-id-20 div.sk-item {position: relative;z-index: 1;}#sk-container-id-20 div.sk-parallel {display: flex;align-items: stretch;justify-content: center;background-color: white;position: relative;}#sk-container-id-20 div.sk-item::before, #sk-container-id-20 div.sk-parallel-item::before {content: \"\";position: absolute;border-left: 1px solid gray;box-sizing: border-box;top: 0;bottom: 0;left: 50%;z-index: -1;}#sk-container-id-20 div.sk-parallel-item {display: flex;flex-direction: column;z-index: 1;position: relative;background-color: white;}#sk-container-id-20 div.sk-parallel-item:first-child::after {align-self: flex-end;width: 50%;}#sk-container-id-20 div.sk-parallel-item:last-child::after {align-self: flex-start;width: 50%;}#sk-container-id-20 div.sk-parallel-item:only-child::after {width: 0;}#sk-container-id-20 div.sk-dashed-wrapped {border: 1px dashed gray;margin: 0 0.4em 0.5em 0.4em;box-sizing: border-box;padding-bottom: 0.4em;background-color: white;}#sk-container-id-20 div.sk-label label {font-family: monospace;font-weight: bold;display: inline-block;line-height: 1.2em;}#sk-container-id-20 div.sk-label-container {text-align: center;}#sk-container-id-20 div.sk-container {/* jupyter's `normalize.less` sets `[hidden] { display: none; }` but bootstrap.min.css set `[hidden] { display: none !important; }` so we also need the `!important` here to be able to override the default hidden behavior on the sphinx rendered scikit-learn.org. See: https://github.com/scikit-learn/scikit-learn/issues/21755 */display: inline-block !important;position: relative;}#sk-container-id-20 div.sk-text-repr-fallback {display: none;}</style><div id=\"sk-container-id-20\" class=\"sk-top-container\"><div class=\"sk-text-repr-fallback\"><pre>KNeighborsClassifier(metric=&#x27;manhattan&#x27;, n_jobs=-1, n_neighbors=24,\n",
       "                     weights=&#x27;distance&#x27;)</pre><b>In a Jupyter environment, please rerun this cell to show the HTML representation or trust the notebook. <br />On GitHub, the HTML representation is unable to render, please try loading this page with nbviewer.org.</b></div><div class=\"sk-container\" hidden><div class=\"sk-item\"><div class=\"sk-estimator sk-toggleable\"><input class=\"sk-toggleable__control sk-hidden--visually\" id=\"sk-estimator-id-22\" type=\"checkbox\" checked><label for=\"sk-estimator-id-22\" class=\"sk-toggleable__label sk-toggleable__label-arrow\">KNeighborsClassifier</label><div class=\"sk-toggleable__content\"><pre>KNeighborsClassifier(metric=&#x27;manhattan&#x27;, n_jobs=-1, n_neighbors=24,\n",
       "                     weights=&#x27;distance&#x27;)</pre></div></div></div></div></div>"
      ],
      "text/plain": [
       "KNeighborsClassifier(metric='manhattan', n_jobs=-1, n_neighbors=24,\n",
       "                     weights='distance')"
      ]
     },
     "execution_count": 114,
     "metadata": {},
     "output_type": "execute_result"
    }
   ],
   "source": [
    "model = KNeighborsClassifier(**grid_search.best_params_, n_jobs=-1)\n",
    "\n",
    "model.fit(X_train, y_train)"
   ]
  },
  {
   "cell_type": "code",
   "execution_count": 115,
   "id": "db0055b6",
   "metadata": {
    "ExecuteTime": {
     "end_time": "2022-10-01T02:33:14.262896Z",
     "start_time": "2022-10-01T02:33:14.091896Z"
    },
    "scrolled": true
   },
   "outputs": [
    {
     "name": "stdout",
     "output_type": "stream",
     "text": [
      "              precision    recall  f1-score   support\n",
      "\n",
      "           0       0.69      0.81      0.74       180\n",
      "           1       0.74      0.60      0.66       163\n",
      "\n",
      "    accuracy                           0.71       343\n",
      "   macro avg       0.71      0.70      0.70       343\n",
      "weighted avg       0.71      0.71      0.70       343\n",
      "\n"
     ]
    }
   ],
   "source": [
    "y_pred = model.predict(X_test)\n",
    "print(classification_report(y_test, y_pred))"
   ]
  },
  {
   "cell_type": "markdown",
   "id": "11a39d78",
   "metadata": {},
   "source": [
    "### Predicting testing dataset"
   ]
  },
  {
   "cell_type": "code",
   "execution_count": 116,
   "id": "4c531d50",
   "metadata": {
    "ExecuteTime": {
     "end_time": "2022-10-01T02:33:18.478926Z",
     "start_time": "2022-10-01T02:33:18.276664Z"
    }
   },
   "outputs": [],
   "source": [
    "y_df_test = model.predict(df_test)\n",
    "pd.DataFrame(y_df_test, index=df_test.index, columns=['target']).to_csv(DATA_FOLDER + 'output_3rd_experiment.csv', sep=',')"
   ]
  },
  {
   "cell_type": "markdown",
   "id": "cb9b7980",
   "metadata": {},
   "source": [
    "## 4th experiment: Evaluating the decision threshold"
   ]
  },
  {
   "cell_type": "code",
   "execution_count": null,
   "id": "f3f508ca",
   "metadata": {},
   "outputs": [],
   "source": []
  },
  {
   "cell_type": "markdown",
   "id": "6785d02d",
   "metadata": {},
   "source": [
    "# References\n",
    "We report here relevant references:\n",
    "1. "
   ]
  },
  {
   "cell_type": "code",
   "execution_count": null,
   "id": "12bc0222",
   "metadata": {},
   "outputs": [],
   "source": []
  }
 ],
 "metadata": {
  "hide_input": false,
  "kernelspec": {
   "display_name": "Python 3 (ipykernel)",
   "language": "python",
   "name": "python3"
  },
  "language_info": {
   "codemirror_mode": {
    "name": "ipython",
    "version": 3
   },
   "file_extension": ".py",
   "mimetype": "text/x-python",
   "name": "python",
   "nbconvert_exporter": "python",
   "pygments_lexer": "ipython3",
   "version": "3.9.13"
  },
  "toc": {
   "base_numbering": 1,
   "nav_menu": {},
   "number_sections": true,
   "sideBar": true,
   "skip_h1_title": false,
   "title_cell": "Table of Contents",
   "title_sidebar": "Contents",
   "toc_cell": false,
   "toc_position": {},
   "toc_section_display": true,
   "toc_window_display": true
  }
 },
 "nbformat": 4,
 "nbformat_minor": 5
}
